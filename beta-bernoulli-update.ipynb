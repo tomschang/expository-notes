{
 "cells": [
  {
   "cell_type": "markdown",
   "id": "ea03305b-fd0d-45c9-bc79-4b4fb1a1ffc3",
   "metadata": {},
   "source": [
    "# The Beta-Bernoulli Update\n",
    "\n",
    "This is a simple problem to try out the basic paradigm of Bayesian ML, which we write as \n",
    "$$\\text{posterior} = \\frac{\\text{likelihood}\\times\\text{prior}}{\\text{evidence}}.$$\n",
    "Let's say we are given a biased coin, and we want to find out the probability that the coin lands heads vs tails. To do this in a Bayesian way, we need a few things. \n",
    "\n",
    "### Generative Model\n",
    "\n",
    "Firstly, we need a model to generate coin flips/data. Our model will be that the coin is generated from a Bernoulli distribution with some probability $\\theta$, so that a sequence of flips $X_i$ we have \n",
    "$$X_i\\sim \\text{Bern}(\\theta)\\hspace{0.5cm}\\text{ i.i.d.}$$\n",
    "Note: we expect coin flips to be uncorrelated, but for other problems (e.g. sentiment analysis) we might expect correllation and may want to include that in our model.\n",
    "\n",
    "### Prior Distribution\n",
    "\n",
    "Now, we need a prior distribution on the parameters $\\theta$ of the Bernoulli random variables. A natural distribution to work with is the [Beta distribution](https://en.wikipedia.org/wiki/Beta_distribution) – we will find out why. We will take $\\theta\\sim \\text{Beta}(\\alpha,\\beta)$ so that\n",
    "$$p(\\theta) = \\frac{1}{B(\\alpha,\\beta)}\\theta^{\\alpha-1}(1-\\theta)^{\\beta-1}.$$\n",
    "Here $B(\\alpha,\\beta)$ is the [Beta function](https://en.wikipedia.org/wiki/Beta_function). \n",
    "\n",
    "<!-- We will actually make a particular choice of prior; we will take $\\alpha=\\beta=1$ (notice that this will cause the prior to be a uniform distribution on $[0,1]$). -->\n",
    "\n",
    "### Likelihood.\n",
    "\n",
    "Now, suppose we have flipped the coin some number of times and we have observed $\\mathcal{D} = X_1,X_2,\\ldots,X_n$. Let $N_1$ be the number of ones we observed and $N_0$ be the number of zeroes. We can then compute the likelihood of this sequence given some specific $\\theta$ to be \n",
    "$$p(\\mathcal{D}\\mid \\theta) = \\theta^{N_1}(1-\\theta)^{N_0}.$$\n",
    "\n",
    "### Posterior\n",
    "\n",
    "Here is where we find out why the prior distribution that we chose was smart. The posterior is \n",
    "$$p(\\theta\\mid \\mathcal{D})=\\frac{1}{Z}p(\\theta)p(\\mathcal{D}\\mid\\theta) = \\theta^{\\alpha-1}(1-\\theta)^{\\beta-1}\\theta^{N_1}(1-\\theta)^{N_0}$$\n",
    "from which we can conclude that $(\\theta\\mid\\mathcal{D})\\sim\\text{Beta}(\\alpha + N_1, \\beta + N_0)$\n",
    "\n",
    "### Evidence\n",
    "\n",
    "In the posterior we swept something under the rug by introducing a normalization constant, $Z$. It turns out that $Z=B(\\alpha+N_1,\\beta+N_0)$ because it must be the normalization constant for the Beta distribution. This constant is sometimes called the evidence, which is denoted $p(\\mathcal{D})$. We could think about this as the probability of seeing the data given our entire model.\n",
    "\n",
    "## How does this fit together?\n",
    "\n",
    "Let's implement this! We will give ourselves a coin, which has a ground truth bias, $p$, and we will try to learn that bias one step at a time.\n"
   ]
  },
  {
   "cell_type": "code",
   "execution_count": 1,
   "id": "32327991-bbe5-4dcd-b912-17641f9bf796",
   "metadata": {
    "vscode": {
     "languageId": "python"
    }
   },
   "outputs": [],
   "source": [
    "import numpy as np\n",
    "import scipy.stats as st\n",
    "import matplotlib.pyplot as plt\n",
    "\n",
    "rng = np.random.default_rng()"
   ]
  },
  {
   "cell_type": "code",
   "execution_count": 2,
   "id": "d475d9b1-22c7-4969-8696-627c6ebdac5c",
   "metadata": {
    "vscode": {
     "languageId": "python"
    }
   },
   "outputs": [],
   "source": [
    "def Bern(p):\n",
    "    \"\"\" flips a coin with weight p. p should be a number in [0,1] \"\"\"\n",
    "    return 1 if rng.random() < p else 0\n"
   ]
  },
  {
   "cell_type": "code",
   "execution_count": 12,
   "id": "8e47420e-30e3-41de-b8b3-758966ad4b91",
   "metadata": {
    "vscode": {
     "languageId": "python"
    }
   },
   "outputs": [],
   "source": [
    "from IPython.display import display, clear_output\n",
    "\n",
    "def learn_p(p, n=150, plot=True):\n",
    "    fig, ax = plt.subplots()\n",
    "    X = np.linspace(0,1,201)\n",
    "    alpha = beta = 1\n",
    "    \n",
    "    for step in range(n):\n",
    "        if plot == True:\n",
    "            Y = st.beta.pdf(X, alpha, beta)\n",
    "            ax.cla()\n",
    "            ax.set_xlim(0, 1)\n",
    "            ax.set_ylim(0, 12)\n",
    "            ax.set_title(f\"step={step+1}, N1 = {alpha-1}, N0 = {beta-1}\")\n",
    "            ax.plot(X, Y)\n",
    "            ax.plot([p,p],[0,12],'r')\n",
    "            display(fig)\n",
    "            clear_output(wait = True)\n",
    "            plt.pause(0.01)\n",
    "        \n",
    "        flip = Bern(p)\n",
    "        beta += (1-flip)\n",
    "        alpha += flip\n",
    "        \n",
    "    ax.cla()\n",
    "    ax.set_xlim(0, 1)\n",
    "    ax.set_ylim(0, 12)\n",
    "    ax.set_title(f\"step={step}, N1 = {alpha-1}, N0 = {beta-1}\")\n",
    "    ax.plot(X, Y)\n",
    "    ax.plot([p,p],[0,12],'r')\n",
    "    display(fig)\n",
    "    \n",
    "    print(f\"\"\"The maximum a posteriori (MAP) estimate for the true probability is {(alpha-1)/(alpha+beta-2)}\n",
    "The mean estimate for the true probability is {alpha/(alpha+beta)}\n",
    "The median estimate for the true probability is (rougly) {(alpha-1/3)/(alpha+beta-2/3)}\"\"\")\n",
    "    return alpha, beta\n",
    "        "
   ]
  },
  {
   "cell_type": "code",
   "execution_count": 13,
   "id": "d35d77bb-6736-4060-bf6b-edaf55c64ad6",
   "metadata": {
    "vscode": {
     "languageId": "python"
    }
   },
   "outputs": [
    {
     "data": {
      "image/png": "[encoded data removed]",
      "text/plain": [
       "<Figure size 640x480 with 1 Axes>"
      ]
     },
     "metadata": {},
     "output_type": "display_data"
    },
    {
     "name": "stdout",
     "output_type": "stream",
     "text": [
      "The maximum a posteriori (MAP) estimate for the true probability is 0.21333333333333335\n",
      "The mean estimate for the true probability is 0.21710526315789475\n",
      "The median estimate for the true probability is (rougly) 0.2158590308370044\n"
     ]
    },
    {
     "data": {
      "text/plain": [
       "(33, 119)"
      ]
     },
     "execution_count": 13,
     "metadata": {},
     "output_type": "execute_result"
    }
   ],
   "source": [
    "learn_p(0.2331)"
   ]
  },
  {
   "cell_type": "code",
   "execution_count": null,
   "id": "1a1bc1a6-a708-4e78-b1ee-8758968cb24c",
   "metadata": {
    "vscode": {
     "languageId": "python"
    }
   },
   "outputs": [],
   "source": []
  }
 ],
 "metadata": {
  "kernelspec": {
   "display_name": "Python 3 (ipykernel)",
   "language": "python",
   "name": "python3"
  },
  "language_info": {
   "codemirror_mode": {
    "name": "ipython",
    "version": 3
   },
   "file_extension": ".py",
   "mimetype": "text/x-python",
   "name": "python",
   "nbconvert_exporter": "python",
   "pygments_lexer": "ipython3",
   "version": "3.10.8"
  }
 },
 "nbformat": 4,
 "nbformat_minor": 5
}
